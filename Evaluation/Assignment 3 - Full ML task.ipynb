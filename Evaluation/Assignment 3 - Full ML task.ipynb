{
 "cells": [
  {
   "cell_type": "markdown",
   "metadata": {},
   "source": [
    "# Assignment 3\n",
    "\n",
    "The goal of this homework is to provide a realistic setting for a machine learning task.Therefore instructions will not specify the exact steps to carry out. Instead, it is part of the assignment to identify promising features, models and preprocessing methods and apply themas appropriate.\n",
    "\n",
    "**The overall goal is to predict the price of a used vehicle on craigslist,** as can be found on kaggle: https://www.kaggle.com/austinreese/craigslist-carstrucks-data\n",
    "\n",
    "\n",
    "You can find a description of the dataset and download it from there. *You do not have to usethe whole dataset, and it’s recommended that you strongly subsample the data whiledeveloping your solution.*"
   ]
  },
  {
   "cell_type": "markdown",
   "metadata": {},
   "source": [
    "### Task 1 - Identify Features\n",
    "- Assemble a dataset consisting of features and target (for example in a dataframe or in two arrays X and y).\n",
    "- What features are relevant for the prediction task?\n",
    "- Are there any features that should be excluded because they leak the target information?\n",
    "- Show visualizations or statistics to support your selection.You are not required to use the description column, but you can try to come up with relevant features using it. Please don’t use bag-of-word approaches for now as we’ll discuss these later in the class."
   ]
  },
  {
   "cell_type": "code",
   "execution_count": null,
   "metadata": {},
   "outputs": [],
   "source": []
  },
  {
   "cell_type": "code",
   "execution_count": null,
   "metadata": {},
   "outputs": [],
   "source": []
  },
  {
   "cell_type": "markdown",
   "metadata": {},
   "source": [
    "Task 2 Preprocessing and Baseline ModelCreate a simple minimum viable model by doing an initial selection of features, doingappropriate preprocessing and cross-validating a linear model. Feel free to exclude features ordo simplified preprocessing for this task. As mentioned before, you don’t need to validate themodel on the whole dataset.\n",
    "Task 3 Feature EngineeringCreate derived features and perform more in-depth preprocessing and data cleaning. Does thisimprove your model? In particular, think about how to encode categorical variables andwhether adding interactions (for example using PolynomialFeatures or manually) might help.Task 4 Any modelUse any regression model we discussed (trees, forests, gradient boosting, SVM) to improveyour result. You can (and probably should) change your preprocessing and feature engineeringto be suitable for the model. You are not required to try all of these models. Tune parametersas appropriate.Task 5 Feature SelectionsIdentify features that are important for your best model. Which features are most influential,and which features could be removed without decrease in performance? Does removingirrelevant features make your model better? (This will be discussed in the lecture on 03/04).Task 6 An explainable modelCan you create an “explainable” model that is nearly as good as your best model?An explainable model should be small enough to be easily inspected - say a linear model withfew enough coefficients that you can reasonably look at all of them, or a tree with a smallnumber of leaves etc."
   ]
  }
 ],
 "metadata": {
  "kernelspec": {
   "display_name": "Python 3",
   "language": "python",
   "name": "python3"
  },
  "language_info": {
   "codemirror_mode": {
    "name": "ipython",
    "version": 3
   },
   "file_extension": ".py",
   "mimetype": "text/x-python",
   "name": "python",
   "nbconvert_exporter": "python",
   "pygments_lexer": "ipython3",
   "version": "3.7.6"
  }
 },
 "nbformat": 4,
 "nbformat_minor": 4
}
