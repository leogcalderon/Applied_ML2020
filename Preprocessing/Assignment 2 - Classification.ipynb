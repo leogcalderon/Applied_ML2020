{
 "cells": [
  {
   "cell_type": "markdown",
   "metadata": {},
   "source": [
    "# Classification on the ‘credit-g’ dataset\n",
    "### 0. Libraries"
   ]
  },
  {
   "cell_type": "code",
   "execution_count": 1,
   "metadata": {},
   "outputs": [],
   "source": [
    "import pandas as pd\n",
    "import numpy as np\n",
    "import matplotlib.pyplot as plt\n",
    "from sklearn.model_selection import train_test_split, cross_val_score, GridSearchCV, KFold\n",
    "import category_encoders as ce\n",
    "from sklearn.preprocessing import RobustScaler, OneHotEncoder\n",
    "from sklearn.linear_model import LogisticRegression\n",
    "from sklearn.pipeline import Pipeline\n",
    "from sklearn.compose import ColumnTransformer\n",
    "from sklearn.neighbors import KNeighborsClassifier\n",
    "from sklearn.svm import SVC"
   ]
  },
  {
   "cell_type": "markdown",
   "metadata": {},
   "source": [
    "### 1. Determine which features are continuous and which are categorical."
   ]
  },
  {
   "cell_type": "code",
   "execution_count": 2,
   "metadata": {},
   "outputs": [],
   "source": [
    "data = pd.read_csv('data/dataset_31_credit-g.csv')"
   ]
  },
  {
   "cell_type": "code",
   "execution_count": 3,
   "metadata": {},
   "outputs": [
    {
     "data": {
      "text/html": [
       "<div>\n",
       "<style scoped>\n",
       "    .dataframe tbody tr th:only-of-type {\n",
       "        vertical-align: middle;\n",
       "    }\n",
       "\n",
       "    .dataframe tbody tr th {\n",
       "        vertical-align: top;\n",
       "    }\n",
       "\n",
       "    .dataframe thead th {\n",
       "        text-align: right;\n",
       "    }\n",
       "</style>\n",
       "<table border=\"1\" class=\"dataframe\">\n",
       "  <thead>\n",
       "    <tr style=\"text-align: right;\">\n",
       "      <th></th>\n",
       "      <th>checking_status</th>\n",
       "      <th>duration</th>\n",
       "      <th>credit_history</th>\n",
       "      <th>purpose</th>\n",
       "      <th>credit_amount</th>\n",
       "      <th>savings_status</th>\n",
       "      <th>employment</th>\n",
       "      <th>installment_commitment</th>\n",
       "      <th>personal_status</th>\n",
       "      <th>other_parties</th>\n",
       "      <th>...</th>\n",
       "      <th>property_magnitude</th>\n",
       "      <th>age</th>\n",
       "      <th>other_payment_plans</th>\n",
       "      <th>housing</th>\n",
       "      <th>existing_credits</th>\n",
       "      <th>job</th>\n",
       "      <th>num_dependents</th>\n",
       "      <th>own_telephone</th>\n",
       "      <th>foreign_worker</th>\n",
       "      <th>class</th>\n",
       "    </tr>\n",
       "  </thead>\n",
       "  <tbody>\n",
       "    <tr>\n",
       "      <th>0</th>\n",
       "      <td>'&lt;0'</td>\n",
       "      <td>6</td>\n",
       "      <td>'critical/other existing credit'</td>\n",
       "      <td>radio/tv</td>\n",
       "      <td>1169</td>\n",
       "      <td>'no known savings'</td>\n",
       "      <td>'&gt;=7'</td>\n",
       "      <td>4</td>\n",
       "      <td>'male single'</td>\n",
       "      <td>none</td>\n",
       "      <td>...</td>\n",
       "      <td>'real estate'</td>\n",
       "      <td>67</td>\n",
       "      <td>none</td>\n",
       "      <td>own</td>\n",
       "      <td>2</td>\n",
       "      <td>skilled</td>\n",
       "      <td>1</td>\n",
       "      <td>yes</td>\n",
       "      <td>yes</td>\n",
       "      <td>good</td>\n",
       "    </tr>\n",
       "    <tr>\n",
       "      <th>1</th>\n",
       "      <td>'0&lt;=X&lt;200'</td>\n",
       "      <td>48</td>\n",
       "      <td>'existing paid'</td>\n",
       "      <td>radio/tv</td>\n",
       "      <td>5951</td>\n",
       "      <td>'&lt;100'</td>\n",
       "      <td>'1&lt;=X&lt;4'</td>\n",
       "      <td>2</td>\n",
       "      <td>'female div/dep/mar'</td>\n",
       "      <td>none</td>\n",
       "      <td>...</td>\n",
       "      <td>'real estate'</td>\n",
       "      <td>22</td>\n",
       "      <td>none</td>\n",
       "      <td>own</td>\n",
       "      <td>1</td>\n",
       "      <td>skilled</td>\n",
       "      <td>1</td>\n",
       "      <td>none</td>\n",
       "      <td>yes</td>\n",
       "      <td>bad</td>\n",
       "    </tr>\n",
       "    <tr>\n",
       "      <th>2</th>\n",
       "      <td>'no checking'</td>\n",
       "      <td>12</td>\n",
       "      <td>'critical/other existing credit'</td>\n",
       "      <td>education</td>\n",
       "      <td>2096</td>\n",
       "      <td>'&lt;100'</td>\n",
       "      <td>'4&lt;=X&lt;7'</td>\n",
       "      <td>2</td>\n",
       "      <td>'male single'</td>\n",
       "      <td>none</td>\n",
       "      <td>...</td>\n",
       "      <td>'real estate'</td>\n",
       "      <td>49</td>\n",
       "      <td>none</td>\n",
       "      <td>own</td>\n",
       "      <td>1</td>\n",
       "      <td>'unskilled resident'</td>\n",
       "      <td>2</td>\n",
       "      <td>none</td>\n",
       "      <td>yes</td>\n",
       "      <td>good</td>\n",
       "    </tr>\n",
       "    <tr>\n",
       "      <th>3</th>\n",
       "      <td>'&lt;0'</td>\n",
       "      <td>42</td>\n",
       "      <td>'existing paid'</td>\n",
       "      <td>furniture/equipment</td>\n",
       "      <td>7882</td>\n",
       "      <td>'&lt;100'</td>\n",
       "      <td>'4&lt;=X&lt;7'</td>\n",
       "      <td>2</td>\n",
       "      <td>'male single'</td>\n",
       "      <td>guarantor</td>\n",
       "      <td>...</td>\n",
       "      <td>'life insurance'</td>\n",
       "      <td>45</td>\n",
       "      <td>none</td>\n",
       "      <td>'for free'</td>\n",
       "      <td>1</td>\n",
       "      <td>skilled</td>\n",
       "      <td>2</td>\n",
       "      <td>none</td>\n",
       "      <td>yes</td>\n",
       "      <td>good</td>\n",
       "    </tr>\n",
       "    <tr>\n",
       "      <th>4</th>\n",
       "      <td>'&lt;0'</td>\n",
       "      <td>24</td>\n",
       "      <td>'delayed previously'</td>\n",
       "      <td>'new car'</td>\n",
       "      <td>4870</td>\n",
       "      <td>'&lt;100'</td>\n",
       "      <td>'1&lt;=X&lt;4'</td>\n",
       "      <td>3</td>\n",
       "      <td>'male single'</td>\n",
       "      <td>none</td>\n",
       "      <td>...</td>\n",
       "      <td>'no known property'</td>\n",
       "      <td>53</td>\n",
       "      <td>none</td>\n",
       "      <td>'for free'</td>\n",
       "      <td>2</td>\n",
       "      <td>skilled</td>\n",
       "      <td>2</td>\n",
       "      <td>none</td>\n",
       "      <td>yes</td>\n",
       "      <td>bad</td>\n",
       "    </tr>\n",
       "  </tbody>\n",
       "</table>\n",
       "<p>5 rows × 21 columns</p>\n",
       "</div>"
      ],
      "text/plain": [
       "  checking_status  duration                    credit_history  \\\n",
       "0            '<0'         6  'critical/other existing credit'   \n",
       "1      '0<=X<200'        48                   'existing paid'   \n",
       "2   'no checking'        12  'critical/other existing credit'   \n",
       "3            '<0'        42                   'existing paid'   \n",
       "4            '<0'        24              'delayed previously'   \n",
       "\n",
       "               purpose  credit_amount      savings_status employment  \\\n",
       "0             radio/tv           1169  'no known savings'      '>=7'   \n",
       "1             radio/tv           5951              '<100'   '1<=X<4'   \n",
       "2            education           2096              '<100'   '4<=X<7'   \n",
       "3  furniture/equipment           7882              '<100'   '4<=X<7'   \n",
       "4            'new car'           4870              '<100'   '1<=X<4'   \n",
       "\n",
       "   installment_commitment       personal_status other_parties  ...  \\\n",
       "0                       4         'male single'          none  ...   \n",
       "1                       2  'female div/dep/mar'          none  ...   \n",
       "2                       2         'male single'          none  ...   \n",
       "3                       2         'male single'     guarantor  ...   \n",
       "4                       3         'male single'          none  ...   \n",
       "\n",
       "    property_magnitude age  other_payment_plans     housing existing_credits  \\\n",
       "0        'real estate'  67                 none         own                2   \n",
       "1        'real estate'  22                 none         own                1   \n",
       "2        'real estate'  49                 none         own                1   \n",
       "3     'life insurance'  45                 none  'for free'                1   \n",
       "4  'no known property'  53                 none  'for free'                2   \n",
       "\n",
       "                    job num_dependents  own_telephone foreign_worker class  \n",
       "0               skilled              1            yes            yes  good  \n",
       "1               skilled              1           none            yes   bad  \n",
       "2  'unskilled resident'              2           none            yes  good  \n",
       "3               skilled              2           none            yes  good  \n",
       "4               skilled              2           none            yes   bad  \n",
       "\n",
       "[5 rows x 21 columns]"
      ]
     },
     "execution_count": 3,
     "metadata": {},
     "output_type": "execute_result"
    }
   ],
   "source": [
    "data.head(5)"
   ]
  },
  {
   "cell_type": "code",
   "execution_count": 4,
   "metadata": {},
   "outputs": [],
   "source": [
    "categorical = [\"checking_status\", \"credit_history\", \"purpose\", \n",
    "               \"savings_status\", \"employment\", \"installment_commitment\",\n",
    "               \"personal_status\", \"other_parties\", \"residence_since\", \n",
    "               \"property_magnitude\", \"other_payment_plans\",\"housing\",\n",
    "               \"existing_credits\",\"job\",\"num_dependents\", \"own_telephone\", \n",
    "               \"foreign_worker\"]"
   ]
  },
  {
   "cell_type": "code",
   "execution_count": 5,
   "metadata": {},
   "outputs": [],
   "source": [
    "continuous = [i for i in data.columns if i not in categorical + ['class']]"
   ]
  },
  {
   "cell_type": "code",
   "execution_count": 6,
   "metadata": {},
   "outputs": [
    {
     "data": {
      "text/plain": [
       "['duration', 'credit_amount', 'age']"
      ]
     },
     "execution_count": 6,
     "metadata": {},
     "output_type": "execute_result"
    }
   ],
   "source": [
    "continuous"
   ]
  },
  {
   "cell_type": "markdown",
   "metadata": {},
   "source": [
    "### 2. Visualize the univariate distribution of each continuous feature, and the distribution of the target"
   ]
  },
  {
   "cell_type": "code",
   "execution_count": 7,
   "metadata": {},
   "outputs": [
    {
     "data": {
      "image/png": "[encoded data removed]",
      "text/plain": [
       "<Figure size 1080x720 with 4 Axes>"
      ]
     },
     "metadata": {
      "needs_background": "light"
     },
     "output_type": "display_data"
    }
   ],
   "source": [
    "f, ax = plt.subplots(nrows=2,ncols=2,figsize=(15,10))\n",
    "\n",
    "plt.suptitle('Conitnuous features distribution', fontsize=25)\n",
    "\n",
    "ax[0,0].hist(data['duration'],bins='auto')\n",
    "ax[0,0].set_title('Duration')\n",
    "\n",
    "ax[0,1].hist(data['credit_amount'],bins='auto')\n",
    "ax[0,1].set_title('Credit Amount')\n",
    "\n",
    "ax[1,1].hist(data['class'],bins='auto')\n",
    "ax[1,1].set_title('Target distribution')\n",
    "\n",
    "ax[1,0].hist(data['age'],bins='auto')\n",
    "ax[1,0].set_title('Age')\n",
    "\n",
    "\n",
    "plt.show()"
   ]
  },
  {
   "cell_type": "markdown",
   "metadata": {},
   "source": [
    "### 3. Split data into training and test set. Do not use the test set until a final evaluation in 1.5.Preprocess the data (such as treatment of categorical variables) without using a pipeline and evaluate an initial LogisticRegression model with an training/validation split."
   ]
  },
  {
   "cell_type": "markdown",
   "metadata": {},
   "source": [
    "- Categorical features with more than 4 categories --> target encoding\n",
    "- Categorical features with less than 5 categories --> onehot encoding\n",
    "- Continuous features with RobustScaler"
   ]
  },
  {
   "cell_type": "code",
   "execution_count": 8,
   "metadata": {},
   "outputs": [],
   "source": [
    "data['class'] = data['class'].map({'good':1,'bad':0})"
   ]
  },
  {
   "cell_type": "code",
   "execution_count": 9,
   "metadata": {},
   "outputs": [],
   "source": [
    "X_train,X_test,y_train,y_test = train_test_split(data.drop(['class'],axis=1),\n",
    "                                                 data['class'],\n",
    "                                                 test_size=0.2)"
   ]
  },
  {
   "cell_type": "code",
   "execution_count": 10,
   "metadata": {},
   "outputs": [],
   "source": [
    "X_train,X_val,y_train,y_val = train_test_split(X_train,\n",
    "                                               y_train,\n",
    "                                               test_size=0.2)"
   ]
  },
  {
   "cell_type": "code",
   "execution_count": 11,
   "metadata": {},
   "outputs": [],
   "source": [
    "target_encoding = []\n",
    "onehot = []\n",
    "\n",
    "for cat in categorical:\n",
    "    if len(X_train[cat].unique()) >= 5:\n",
    "        target_encoding.append(cat)\n",
    "    else:\n",
    "        onehot.append(cat)"
   ]
  },
  {
   "cell_type": "code",
   "execution_count": 12,
   "metadata": {},
   "outputs": [
    {
     "data": {
      "text/plain": [
       "TargetEncoder(cols=['credit_history', 'purpose', 'savings_status',\n",
       "                    'employment'])"
      ]
     },
     "execution_count": 12,
     "metadata": {},
     "output_type": "execute_result"
    }
   ],
   "source": [
    "te = ce.TargetEncoder(cols=target_encoding)\n",
    "te.fit(X_train,y_train)"
   ]
  },
  {
   "cell_type": "code",
   "execution_count": 13,
   "metadata": {},
   "outputs": [
    {
     "data": {
      "text/plain": [
       "OneHotEncoder(cols=['checking_status', 'installment_commitment',\n",
       "                    'personal_status', 'other_parties', 'residence_since',\n",
       "                    'property_magnitude', 'other_payment_plans', 'housing',\n",
       "                    'existing_credits', 'job', 'num_dependents',\n",
       "                    'own_telephone', 'foreign_worker'])"
      ]
     },
     "execution_count": 13,
     "metadata": {},
     "output_type": "execute_result"
    }
   ],
   "source": [
    "ohe = ce.one_hot.OneHotEncoder(cols=onehot)\n",
    "ohe.fit(X_train)"
   ]
  },
  {
   "cell_type": "code",
   "execution_count": 14,
   "metadata": {},
   "outputs": [
    {
     "data": {
      "text/plain": [
       "RobustScaler()"
      ]
     },
     "execution_count": 14,
     "metadata": {},
     "output_type": "execute_result"
    }
   ],
   "source": [
    "scaler = RobustScaler()\n",
    "scaler.fit(X_train[continuous])"
   ]
  },
  {
   "cell_type": "code",
   "execution_count": 15,
   "metadata": {},
   "outputs": [],
   "source": [
    "X_train[continuous] = scaler.transform(X_train[continuous])\n",
    "X_train = te.transform(X_train)\n",
    "X_train = ohe.transform(X_train)\n",
    "\n",
    "X_val[continuous] = scaler.transform(X_val[continuous])\n",
    "X_val = te.transform(X_val)\n",
    "X_val = ohe.transform(X_val)"
   ]
  },
  {
   "cell_type": "code",
   "execution_count": 16,
   "metadata": {},
   "outputs": [
    {
     "data": {
      "text/plain": [
       "((640, 50), (160, 50))"
      ]
     },
     "execution_count": 16,
     "metadata": {},
     "output_type": "execute_result"
    }
   ],
   "source": [
    "X_train.shape, X_val.shape"
   ]
  },
  {
   "cell_type": "code",
   "execution_count": 17,
   "metadata": {},
   "outputs": [
    {
     "name": "stdout",
     "output_type": "stream",
     "text": [
      "Train score: 0.76875\n",
      "Validation score: 0.75\n"
     ]
    }
   ],
   "source": [
    "lr = LogisticRegression(max_iter = 10000)\n",
    "lr.fit(X_train,y_train)\n",
    "print('Train score:',lr.score(X_train,y_train))\n",
    "print('Validation score:',lr.score(X_val,y_val))"
   ]
  },
  {
   "cell_type": "markdown",
   "metadata": {},
   "source": [
    "### 4. Use ColumnTransformer and pipeline to encode categorical variables (your choice ofOneHotEncoder or another one from the categorical_encoder package, or both). EvaluateLogistic Regression, linear support vector machines and nearest neighbors usingcross-validation. How different are the results? How does scaling the continuous features with StandardScaler influence the results?"
   ]
  },
  {
   "cell_type": "code",
   "execution_count": 18,
   "metadata": {},
   "outputs": [],
   "source": [
    "X_train,X_test,y_train,y_test = train_test_split(data.drop(['class'],axis=1),\n",
    "                                                 data['class'],\n",
    "                                                 test_size=0.2)"
   ]
  },
  {
   "cell_type": "code",
   "execution_count": 19,
   "metadata": {},
   "outputs": [
    {
     "name": "stdout",
     "output_type": "stream",
     "text": [
      "Scores with SCALER\n",
      "CV score - LogisticRegression: 0.755\n",
      "CV score - KNN: 0.74375\n",
      "CV score - Support vector machine: 0.75875\n"
     ]
    }
   ],
   "source": [
    "preprocess = ColumnTransformer([('scaler',RobustScaler(),continuous),\n",
    "                                ('target_encoding',ce.TargetEncoder(cols=target_encoding),target_encoding),\n",
    "                                ('onehot_encoding',ce.one_hot.OneHotEncoder(cols=onehot),onehot)])\n",
    "\n",
    "pipe_lr = Pipeline([('Preprocess',preprocess),\n",
    "                    ('Classifier',LogisticRegression(solver='liblinear'))])\n",
    "\n",
    "pipe_knn = Pipeline([('Preprocess',preprocess),\n",
    "                    ('Classifier',KNeighborsClassifier())])\n",
    "\n",
    "pipe_svc = Pipeline([('Preprocess',preprocess),\n",
    "                    ('Classifier',SVC())])\n",
    "\n",
    "\n",
    "cv_lr = cross_val_score(pipe_lr,X_train,y_train)\n",
    "cv_knn = cross_val_score(pipe_knn,X_train,y_train)\n",
    "cv_svc = cross_val_score(pipe_svc,X_train,y_train)\n",
    "\n",
    "print('Scores with SCALER')\n",
    "print('CV score - LogisticRegression:',cv_lr.mean())\n",
    "print('CV score - KNN:',cv_knn.mean())\n",
    "print('CV score - Support vector machine:',cv_svc.mean())"
   ]
  },
  {
   "cell_type": "code",
   "execution_count": 20,
   "metadata": {},
   "outputs": [
    {
     "name": "stdout",
     "output_type": "stream",
     "text": [
      "Scores without SCALER\n",
      "CV score - LogisticRegression: 0.7537499999999999\n",
      "CV score - KNN: 0.7175\n",
      "CV score - Support vector machine: 0.7262500000000001\n"
     ]
    }
   ],
   "source": [
    "preprocess = ColumnTransformer([('target_encoding',ce.TargetEncoder(cols=target_encoding),target_encoding),\n",
    "                                ('onehot_encoding',ce.one_hot.OneHotEncoder(cols=onehot),onehot)])\n",
    "\n",
    "pipe_lr = Pipeline([('Preprocess',preprocess),\n",
    "                    ('Classifier',LogisticRegression(solver='liblinear'))])\n",
    "\n",
    "pipe_knn = Pipeline([('Preprocess',preprocess),\n",
    "                    ('Classifier',KNeighborsClassifier())])\n",
    "\n",
    "pipe_svc = Pipeline([('Preprocess',preprocess),\n",
    "                    ('Classifier',SVC())])\n",
    "\n",
    "\n",
    "cv_lr = cross_val_score(pipe_lr,X_train,y_train)\n",
    "cv_knn = cross_val_score(pipe_knn,X_train,y_train)\n",
    "cv_svc = cross_val_score(pipe_svc,X_train,y_train)\n",
    "\n",
    "print('Scores without SCALER')\n",
    "print('CV score - LogisticRegression:',cv_lr.mean())\n",
    "print('CV score - KNN:',cv_knn.mean())\n",
    "print('CV score - Support vector machine:',cv_svc.mean())"
   ]
  },
  {
   "cell_type": "markdown",
   "metadata": {},
   "source": [
    "### 5. Tune the parameters using GridSearchCV. Do the results improve? Evaluate only the bemodel on the test set.Visualize the performance as function of the parameters for all three models."
   ]
  },
  {
   "cell_type": "code",
   "execution_count": 21,
   "metadata": {},
   "outputs": [],
   "source": [
    "preprocess = ColumnTransformer([('scaler',RobustScaler(),continuous),\n",
    "                                ('target_encoding',ce.TargetEncoder(cols=target_encoding),target_encoding),\n",
    "                                ('onehot_encoding',ce.one_hot.OneHotEncoder(cols=onehot),onehot)])\n",
    "\n",
    "pipe_lr = Pipeline([('Preprocess',preprocess),\n",
    "                    ('Classifier',LogisticRegression(solver='liblinear'))])\n",
    "\n",
    "pipe_knn = Pipeline([('Preprocess',preprocess),\n",
    "                    ('Classifier',KNeighborsClassifier())])\n",
    "\n",
    "pipe_svc = Pipeline([('Preprocess',preprocess),\n",
    "                    ('Classifier',SVC())])\n",
    "\n",
    "params_lr = {'Classifier__penalty': ['l2','l1'],\n",
    "             'Classifier__C': np.logspace(-3,3,7)}\n",
    "\n",
    "params_knn = {'Classifier__n_neighbors': [3,5,7,9],\n",
    "              'Classifier__p': [1,2]}\n",
    "\n",
    "params_svc = {'Classifier__C': [0.1,1, 10],\n",
    "              'Classifier__kernel': ['rbf', 'poly', 'sigmoid'],\n",
    "              'Classifier__gamma': [1,0.1,0.01,0.001]}\n",
    "\n",
    "search_lr = GridSearchCV(pipe_lr,params_lr)\n",
    "search_knn = GridSearchCV(pipe_knn,params_knn)\n",
    "search_svc = GridSearchCV(pipe_svc,params_svc)"
   ]
  },
  {
   "cell_type": "code",
   "execution_count": 22,
   "metadata": {},
   "outputs": [
    {
     "data": {
      "text/plain": [
       "GridSearchCV(estimator=Pipeline(steps=[('Preprocess',\n",
       "                                        ColumnTransformer(transformers=[('scaler',\n",
       "                                                                         RobustScaler(),\n",
       "                                                                         ['duration',\n",
       "                                                                          'credit_amount',\n",
       "                                                                          'age']),\n",
       "                                                                        ('target_encoding',\n",
       "                                                                         TargetEncoder(cols=['credit_history',\n",
       "                                                                                             'purpose',\n",
       "                                                                                             'savings_status',\n",
       "                                                                                             'employment']),\n",
       "                                                                         ['credit_history',\n",
       "                                                                          'purpose',\n",
       "                                                                          'savings_status',\n",
       "                                                                          'employment']),\n",
       "                                                                        ('onehot_encoding',\n",
       "                                                                         OneHotEncoder(cols=['checki...\n",
       "                                                                          'personal_status',\n",
       "                                                                          'other_parties',\n",
       "                                                                          'residence_since',\n",
       "                                                                          'property_magnitude',\n",
       "                                                                          'other_payment_plans',\n",
       "                                                                          'housing',\n",
       "                                                                          'existing_credits',\n",
       "                                                                          'job',\n",
       "                                                                          'num_dependents',\n",
       "                                                                          'own_telephone',\n",
       "                                                                          'foreign_worker'])])),\n",
       "                                       ('Classifier',\n",
       "                                        LogisticRegression(solver='liblinear'))]),\n",
       "             param_grid={'Classifier__C': array([1.e-03, 1.e-02, 1.e-01, 1.e+00, 1.e+01, 1.e+02, 1.e+03]),\n",
       "                         'Classifier__penalty': ['l2', 'l1']})"
      ]
     },
     "execution_count": 22,
     "metadata": {},
     "output_type": "execute_result"
    }
   ],
   "source": [
    "search_lr.fit(X_train,y_train)"
   ]
  },
  {
   "cell_type": "code",
   "execution_count": 23,
   "metadata": {},
   "outputs": [
    {
     "data": {
      "text/plain": [
       "GridSearchCV(estimator=Pipeline(steps=[('Preprocess',\n",
       "                                        ColumnTransformer(transformers=[('scaler',\n",
       "                                                                         RobustScaler(),\n",
       "                                                                         ['duration',\n",
       "                                                                          'credit_amount',\n",
       "                                                                          'age']),\n",
       "                                                                        ('target_encoding',\n",
       "                                                                         TargetEncoder(cols=['credit_history',\n",
       "                                                                                             'purpose',\n",
       "                                                                                             'savings_status',\n",
       "                                                                                             'employment']),\n",
       "                                                                         ['credit_history',\n",
       "                                                                          'purpose',\n",
       "                                                                          'savings_status',\n",
       "                                                                          'employment']),\n",
       "                                                                        ('onehot_encoding',\n",
       "                                                                         OneHotEncoder(cols=['checki...\n",
       "                                                                                             'foreign_worker']),\n",
       "                                                                         ['checking_status',\n",
       "                                                                          'installment_commitment',\n",
       "                                                                          'personal_status',\n",
       "                                                                          'other_parties',\n",
       "                                                                          'residence_since',\n",
       "                                                                          'property_magnitude',\n",
       "                                                                          'other_payment_plans',\n",
       "                                                                          'housing',\n",
       "                                                                          'existing_credits',\n",
       "                                                                          'job',\n",
       "                                                                          'num_dependents',\n",
       "                                                                          'own_telephone',\n",
       "                                                                          'foreign_worker'])])),\n",
       "                                       ('Classifier', KNeighborsClassifier())]),\n",
       "             param_grid={'Classifier__n_neighbors': [3, 5, 7, 9],\n",
       "                         'Classifier__p': [1, 2]})"
      ]
     },
     "execution_count": 23,
     "metadata": {},
     "output_type": "execute_result"
    }
   ],
   "source": [
    "search_knn.fit(X_train,y_train)"
   ]
  },
  {
   "cell_type": "code",
   "execution_count": 24,
   "metadata": {},
   "outputs": [
    {
     "data": {
      "text/plain": [
       "GridSearchCV(estimator=Pipeline(steps=[('Preprocess',\n",
       "                                        ColumnTransformer(transformers=[('scaler',\n",
       "                                                                         RobustScaler(),\n",
       "                                                                         ['duration',\n",
       "                                                                          'credit_amount',\n",
       "                                                                          'age']),\n",
       "                                                                        ('target_encoding',\n",
       "                                                                         TargetEncoder(cols=['credit_history',\n",
       "                                                                                             'purpose',\n",
       "                                                                                             'savings_status',\n",
       "                                                                                             'employment']),\n",
       "                                                                         ['credit_history',\n",
       "                                                                          'purpose',\n",
       "                                                                          'savings_status',\n",
       "                                                                          'employment']),\n",
       "                                                                        ('onehot_encoding',\n",
       "                                                                         OneHotEncoder(cols=['checki...\n",
       "                                                                          'installment_commitment',\n",
       "                                                                          'personal_status',\n",
       "                                                                          'other_parties',\n",
       "                                                                          'residence_since',\n",
       "                                                                          'property_magnitude',\n",
       "                                                                          'other_payment_plans',\n",
       "                                                                          'housing',\n",
       "                                                                          'existing_credits',\n",
       "                                                                          'job',\n",
       "                                                                          'num_dependents',\n",
       "                                                                          'own_telephone',\n",
       "                                                                          'foreign_worker'])])),\n",
       "                                       ('Classifier', SVC())]),\n",
       "             param_grid={'Classifier__C': [0.1, 1, 10],\n",
       "                         'Classifier__gamma': [1, 0.1, 0.01, 0.001],\n",
       "                         'Classifier__kernel': ['rbf', 'poly', 'sigmoid']})"
      ]
     },
     "execution_count": 24,
     "metadata": {},
     "output_type": "execute_result"
    }
   ],
   "source": [
    "search_svc.fit(X_train,y_train)"
   ]
  },
  {
   "cell_type": "code",
   "execution_count": 25,
   "metadata": {},
   "outputs": [
    {
     "name": "stdout",
     "output_type": "stream",
     "text": [
      "Best scores\n",
      "-------------\n",
      "LogisticRegression: 0.7575 \n",
      "Params: {'Classifier__C': 100.0, 'Classifier__penalty': 'l2'}\n",
      "\n",
      "\n",
      "KNN: 0.7450000000000001 \n",
      "Params: {'Classifier__n_neighbors': 9, 'Classifier__p': 2}\n",
      "\n",
      "\n",
      "SVC: 0.75875 \n",
      "Params: {'Classifier__C': 1, 'Classifier__gamma': 0.1, 'Classifier__kernel': 'rbf'}\n"
     ]
    }
   ],
   "source": [
    "print('Best scores\\n-------------')\n",
    "print('LogisticRegression:',search_lr.best_score_,'\\nParams:',search_lr.best_params_)\n",
    "print('\\n\\nKNN:',search_knn.best_score_,'\\nParams:',search_knn.best_params_)\n",
    "print('\\n\\nSVC:',search_svc.best_score_,'\\nParams:',search_svc.best_params_)"
   ]
  },
  {
   "cell_type": "code",
   "execution_count": 26,
   "metadata": {},
   "outputs": [
    {
     "name": "stdout",
     "output_type": "stream",
     "text": [
      "Score in test set: 0.745\n"
     ]
    }
   ],
   "source": [
    "best_model = Pipeline([('Preprocess',preprocess),\n",
    "                    ('Classifier',LogisticRegression(C=10,penalty='l2',solver='liblinear'))])\n",
    "\n",
    "best_model.fit(X_train,y_train)\n",
    "score = best_model.score(X_test,y_test)\n",
    "print('Score in test set:',score)"
   ]
  },
  {
   "cell_type": "markdown",
   "metadata": {},
   "source": [
    "### 6. Change the cross-validation strategy from ‘stratified k-fold’ to ‘kfold’ with shuffling. Do theparameters that are found change? Do they change if you change the random seed of theshuffling? Or if you change the random state of the split into training and test data?"
   ]
  },
  {
   "cell_type": "code",
   "execution_count": 27,
   "metadata": {},
   "outputs": [],
   "source": [
    "k_fold = KFold(n_splits=5,shuffle=True)\n",
    "\n",
    "search_lr = GridSearchCV(pipe_lr,params_lr, cv=k_fold)\n",
    "search_knn = GridSearchCV(pipe_knn,params_knn, cv=k_fold)\n",
    "search_svc = GridSearchCV(pipe_svc,params_svc, cv=k_fold)"
   ]
  },
  {
   "cell_type": "code",
   "execution_count": 28,
   "metadata": {},
   "outputs": [
    {
     "data": {
      "text/plain": [
       "GridSearchCV(cv=KFold(n_splits=5, random_state=None, shuffle=True),\n",
       "             estimator=Pipeline(steps=[('Preprocess',\n",
       "                                        ColumnTransformer(transformers=[('scaler',\n",
       "                                                                         RobustScaler(),\n",
       "                                                                         ['duration',\n",
       "                                                                          'credit_amount',\n",
       "                                                                          'age']),\n",
       "                                                                        ('target_encoding',\n",
       "                                                                         TargetEncoder(cols=['credit_history',\n",
       "                                                                                             'purpose',\n",
       "                                                                                             'savings_status',\n",
       "                                                                                             'employment']),\n",
       "                                                                         ['credit_history',\n",
       "                                                                          'purpose',\n",
       "                                                                          'savings_status',\n",
       "                                                                          'employme...\n",
       "                                                                          'installment_commitment',\n",
       "                                                                          'personal_status',\n",
       "                                                                          'other_parties',\n",
       "                                                                          'residence_since',\n",
       "                                                                          'property_magnitude',\n",
       "                                                                          'other_payment_plans',\n",
       "                                                                          'housing',\n",
       "                                                                          'existing_credits',\n",
       "                                                                          'job',\n",
       "                                                                          'num_dependents',\n",
       "                                                                          'own_telephone',\n",
       "                                                                          'foreign_worker'])])),\n",
       "                                       ('Classifier', SVC())]),\n",
       "             param_grid={'Classifier__C': [0.1, 1, 10],\n",
       "                         'Classifier__gamma': [1, 0.1, 0.01, 0.001],\n",
       "                         'Classifier__kernel': ['rbf', 'poly', 'sigmoid']})"
      ]
     },
     "execution_count": 28,
     "metadata": {},
     "output_type": "execute_result"
    }
   ],
   "source": [
    "search_lr.fit(X_train,y_train)\n",
    "search_knn.fit(X_train,y_train)\n",
    "search_svc.fit(X_train,y_train)"
   ]
  },
  {
   "cell_type": "code",
   "execution_count": 29,
   "metadata": {},
   "outputs": [
    {
     "name": "stdout",
     "output_type": "stream",
     "text": [
      "Best scores with KFold\n",
      "----------------\n",
      "LogisticRegression: 0.75125 \n",
      "Params: {'Classifier__C': 10.0, 'Classifier__penalty': 'l2'}\n",
      "\n",
      "\n",
      "KNN: 0.74125 \n",
      "Params: {'Classifier__n_neighbors': 3, 'Classifier__p': 1}\n",
      "\n",
      "\n",
      "SVC: 0.75125 \n",
      "Params: {'Classifier__C': 10, 'Classifier__gamma': 0.01, 'Classifier__kernel': 'rbf'}\n"
     ]
    }
   ],
   "source": [
    "print('Best scores with KFold\\n----------------')\n",
    "print('LogisticRegression:',search_lr.best_score_,'\\nParams:',search_lr.best_params_)\n",
    "print('\\n\\nKNN:',search_knn.best_score_,'\\nParams:',search_knn.best_params_)\n",
    "print('\\n\\nSVC:',search_svc.best_score_,'\\nParams:',search_svc.best_params_)"
   ]
  },
  {
   "cell_type": "code",
   "execution_count": 30,
   "metadata": {},
   "outputs": [
    {
     "name": "stdout",
     "output_type": "stream",
     "text": [
      "Score in test set: 0.74\n"
     ]
    }
   ],
   "source": [
    "best_model = Pipeline([('Preprocess',preprocess),\n",
    "                       ('Classifier',LogisticRegression(C=10,penalty='l1',solver='liblinear'))])\n",
    "\n",
    "best_model.fit(X_train,y_train)\n",
    "score = best_model.score(X_test,y_test)\n",
    "print('Score in test set:',score)"
   ]
  },
  {
   "cell_type": "markdown",
   "metadata": {},
   "source": [
    "### 7. Visualize the 20 most important coefficients for LogisticRegression and Linear SupportVector Machines using hyper-parameters that performed well in the grid-search"
   ]
  },
  {
   "cell_type": "code",
   "execution_count": 31,
   "metadata": {},
   "outputs": [],
   "source": [
    "te = ce.TargetEncoder(cols=target_encoding).fit(X_train,y_train)\n",
    "X_train_final = te.transform(X_train)\n",
    "X_test_final = te.transform(X_test)\n",
    "\n",
    "scaler = RobustScaler().fit(X_train_final[continuous + target_encoding])\n",
    "X_train_final[continuous + target_encoding] = scaler.transform(X_train_final[continuous + target_encoding])\n",
    "X_test_final[continuous + target_encoding] = scaler.transform(X_test_final[continuous + target_encoding])\n",
    "\n",
    "\n",
    "ohe = ce.one_hot.OneHotEncoder(cols=onehot).fit(X_train_final)\n",
    "X_train_final = ohe.transform(X_train_final)\n",
    "X_test_final = ohe.transform(X_test_final)"
   ]
  },
  {
   "cell_type": "code",
   "execution_count": 34,
   "metadata": {},
   "outputs": [
    {
     "name": "stdout",
     "output_type": "stream",
     "text": [
      "20 most important coefficients for LR:\n",
      "            0                         1\n",
      "0   1.947429        existing_credits_3\n",
      "1   1.672318          foreign_worker_2\n",
      "2   0.973469           other_parties_3\n",
      "3   0.959665                   purpose\n",
      "4   0.933208         checking_status_2\n",
      "5   0.874116            savings_status\n",
      "6   0.737984         checking_status_1\n",
      "7   0.600993         residence_since_3\n",
      "8   0.597134  installment_commitment_2\n",
      "9   0.569658                 housing_2\n",
      "10  0.527785         personal_status_1\n",
      "11  0.508363            credit_history\n",
      "12  0.425700  installment_commitment_3\n",
      "13  0.409566      property_magnitude_1\n",
      "14  0.381984     other_payment_plans_2\n",
      "15  0.368785         checking_status_3\n",
      "16  0.366410      property_magnitude_4\n",
      "17  0.357481         residence_since_1\n",
      "18  0.352155  installment_commitment_1\n",
      "19  0.316976          num_dependents_1\n",
      "\n",
      "\n",
      "Coefficients are not available for a SVC using a RBF kernel.\n"
     ]
    }
   ],
   "source": [
    "lr_final = LogisticRegression(C=10,penalty='l1',solver='liblinear')\n",
    "svc_final = SVC(C=10,gamma=0.01,kernel='rbf')\n",
    "\n",
    "lr_final.fit(X_train_final,y_train)\n",
    "svc_final.fit(X_train_final,y_train)\n",
    "\n",
    "print('20 most important coefficients for LR:\\n',\\\n",
    "pd.DataFrame(list(sorted(zip(abs(lr_final.coef_).tolist()[0], X_train_final.columns.tolist()),reverse=True))[:20]))\n",
    "\n",
    "print('\\n\\nCoefficients are not available for a SVC using a RBF kernel.')"
   ]
  }
 ],
 "metadata": {
  "kernelspec": {
   "display_name": "Python 3",
   "language": "python",
   "name": "python3"
  },
  "language_info": {
   "codemirror_mode": {
    "name": "ipython",
    "version": 3
   },
   "file_extension": ".py",
   "mimetype": "text/x-python",
   "name": "python",
   "nbconvert_exporter": "python",
   "pygments_lexer": "ipython3",
   "version": "3.8.2"
  }
 },
 "nbformat": 4,
 "nbformat_minor": 4
}
