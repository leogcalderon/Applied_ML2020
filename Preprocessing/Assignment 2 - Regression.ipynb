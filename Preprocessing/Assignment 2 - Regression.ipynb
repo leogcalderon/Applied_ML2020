{
 "cells": [
  {
   "cell_type": "markdown",
   "metadata": {},
   "source": [
    "# Regression on Sydney Dataset \n",
    "### 0. Libraries"
   ]
  },
  {
   "cell_type": "code",
   "execution_count": 16,
   "metadata": {},
   "outputs": [],
   "source": [
    "import pandas as pd\n",
    "import numpy as np\n",
    "import matplotlib.pyplot as plt\n",
    "from sklearn.model_selection import train_test_split, cross_val_score, GridSearchCV\n",
    "from sklearn.preprocessing import RobustScaler\n",
    "import category_encoders as ce\n",
    "from sklearn.impute import SimpleImputer\n",
    "from sklearn.linear_model import Lasso,Ridge,ElasticNet, LinearRegression\n",
    "from sklearn.pipeline import Pipeline\n",
    "from sklearn.compose import ColumnTransformer"
   ]
  },
  {
   "cell_type": "code",
   "execution_count": 2,
   "metadata": {},
   "outputs": [],
   "source": [
    "data = pd.read_csv('data/data.csv')"
   ]
  },
  {
   "cell_type": "code",
   "execution_count": 3,
   "metadata": {},
   "outputs": [
    {
     "data": {
      "text/html": [
       "<div>\n",
       "<style scoped>\n",
       "    .dataframe tbody tr th:only-of-type {\n",
       "        vertical-align: middle;\n",
       "    }\n",
       "\n",
       "    .dataframe tbody tr th {\n",
       "        vertical-align: top;\n",
       "    }\n",
       "\n",
       "    .dataframe thead th {\n",
       "        text-align: right;\n",
       "    }\n",
       "</style>\n",
       "<table border=\"1\" class=\"dataframe\">\n",
       "  <thead>\n",
       "    <tr style=\"text-align: right;\">\n",
       "      <th></th>\n",
       "      <th>date</th>\n",
       "      <th>price</th>\n",
       "      <th>bedrooms</th>\n",
       "      <th>bathrooms</th>\n",
       "      <th>sqft_living</th>\n",
       "      <th>sqft_lot</th>\n",
       "      <th>floors</th>\n",
       "      <th>waterfront</th>\n",
       "      <th>view</th>\n",
       "      <th>condition</th>\n",
       "      <th>sqft_above</th>\n",
       "      <th>sqft_basement</th>\n",
       "      <th>yr_built</th>\n",
       "      <th>yr_renovated</th>\n",
       "      <th>street</th>\n",
       "      <th>city</th>\n",
       "      <th>statezip</th>\n",
       "      <th>country</th>\n",
       "    </tr>\n",
       "  </thead>\n",
       "  <tbody>\n",
       "    <tr>\n",
       "      <th>0</th>\n",
       "      <td>2014-05-02 00:00:00</td>\n",
       "      <td>313000.0</td>\n",
       "      <td>3.0</td>\n",
       "      <td>1.50</td>\n",
       "      <td>1340</td>\n",
       "      <td>7912</td>\n",
       "      <td>1.5</td>\n",
       "      <td>0</td>\n",
       "      <td>0</td>\n",
       "      <td>3</td>\n",
       "      <td>1340</td>\n",
       "      <td>0</td>\n",
       "      <td>1955</td>\n",
       "      <td>2005</td>\n",
       "      <td>18810 Densmore Ave N</td>\n",
       "      <td>Shoreline</td>\n",
       "      <td>WA 98133</td>\n",
       "      <td>USA</td>\n",
       "    </tr>\n",
       "    <tr>\n",
       "      <th>1</th>\n",
       "      <td>2014-05-02 00:00:00</td>\n",
       "      <td>2384000.0</td>\n",
       "      <td>5.0</td>\n",
       "      <td>2.50</td>\n",
       "      <td>3650</td>\n",
       "      <td>9050</td>\n",
       "      <td>2.0</td>\n",
       "      <td>0</td>\n",
       "      <td>4</td>\n",
       "      <td>5</td>\n",
       "      <td>3370</td>\n",
       "      <td>280</td>\n",
       "      <td>1921</td>\n",
       "      <td>0</td>\n",
       "      <td>709 W Blaine St</td>\n",
       "      <td>Seattle</td>\n",
       "      <td>WA 98119</td>\n",
       "      <td>USA</td>\n",
       "    </tr>\n",
       "    <tr>\n",
       "      <th>2</th>\n",
       "      <td>2014-05-02 00:00:00</td>\n",
       "      <td>342000.0</td>\n",
       "      <td>3.0</td>\n",
       "      <td>2.00</td>\n",
       "      <td>1930</td>\n",
       "      <td>11947</td>\n",
       "      <td>1.0</td>\n",
       "      <td>0</td>\n",
       "      <td>0</td>\n",
       "      <td>4</td>\n",
       "      <td>1930</td>\n",
       "      <td>0</td>\n",
       "      <td>1966</td>\n",
       "      <td>0</td>\n",
       "      <td>26206-26214 143rd Ave SE</td>\n",
       "      <td>Kent</td>\n",
       "      <td>WA 98042</td>\n",
       "      <td>USA</td>\n",
       "    </tr>\n",
       "    <tr>\n",
       "      <th>3</th>\n",
       "      <td>2014-05-02 00:00:00</td>\n",
       "      <td>420000.0</td>\n",
       "      <td>3.0</td>\n",
       "      <td>2.25</td>\n",
       "      <td>2000</td>\n",
       "      <td>8030</td>\n",
       "      <td>1.0</td>\n",
       "      <td>0</td>\n",
       "      <td>0</td>\n",
       "      <td>4</td>\n",
       "      <td>1000</td>\n",
       "      <td>1000</td>\n",
       "      <td>1963</td>\n",
       "      <td>0</td>\n",
       "      <td>857 170th Pl NE</td>\n",
       "      <td>Bellevue</td>\n",
       "      <td>WA 98008</td>\n",
       "      <td>USA</td>\n",
       "    </tr>\n",
       "    <tr>\n",
       "      <th>4</th>\n",
       "      <td>2014-05-02 00:00:00</td>\n",
       "      <td>550000.0</td>\n",
       "      <td>4.0</td>\n",
       "      <td>2.50</td>\n",
       "      <td>1940</td>\n",
       "      <td>10500</td>\n",
       "      <td>1.0</td>\n",
       "      <td>0</td>\n",
       "      <td>0</td>\n",
       "      <td>4</td>\n",
       "      <td>1140</td>\n",
       "      <td>800</td>\n",
       "      <td>1976</td>\n",
       "      <td>1992</td>\n",
       "      <td>9105 170th Ave NE</td>\n",
       "      <td>Redmond</td>\n",
       "      <td>WA 98052</td>\n",
       "      <td>USA</td>\n",
       "    </tr>\n",
       "  </tbody>\n",
       "</table>\n",
       "</div>"
      ],
      "text/plain": [
       "                  date      price  bedrooms  bathrooms  sqft_living  sqft_lot  \\\n",
       "0  2014-05-02 00:00:00   313000.0       3.0       1.50         1340      7912   \n",
       "1  2014-05-02 00:00:00  2384000.0       5.0       2.50         3650      9050   \n",
       "2  2014-05-02 00:00:00   342000.0       3.0       2.00         1930     11947   \n",
       "3  2014-05-02 00:00:00   420000.0       3.0       2.25         2000      8030   \n",
       "4  2014-05-02 00:00:00   550000.0       4.0       2.50         1940     10500   \n",
       "\n",
       "   floors  waterfront  view  condition  sqft_above  sqft_basement  yr_built  \\\n",
       "0     1.5           0     0          3        1340              0      1955   \n",
       "1     2.0           0     4          5        3370            280      1921   \n",
       "2     1.0           0     0          4        1930              0      1966   \n",
       "3     1.0           0     0          4        1000           1000      1963   \n",
       "4     1.0           0     0          4        1140            800      1976   \n",
       "\n",
       "   yr_renovated                    street       city  statezip country  \n",
       "0          2005      18810 Densmore Ave N  Shoreline  WA 98133     USA  \n",
       "1             0           709 W Blaine St    Seattle  WA 98119     USA  \n",
       "2             0  26206-26214 143rd Ave SE       Kent  WA 98042     USA  \n",
       "3             0           857 170th Pl NE   Bellevue  WA 98008     USA  \n",
       "4          1992         9105 170th Ave NE    Redmond  WA 98052     USA  "
      ]
     },
     "execution_count": 3,
     "metadata": {},
     "output_type": "execute_result"
    }
   ],
   "source": [
    "data.head(5)"
   ]
  },
  {
   "cell_type": "markdown",
   "metadata": {},
   "source": [
    "### 1. Determine which features are continuous vs categorical. Drop rows without a valid salesprice."
   ]
  },
  {
   "cell_type": "code",
   "execution_count": 4,
   "metadata": {},
   "outputs": [],
   "source": [
    "categorical = ['bedrooms','bathrooms','floors','waterfront','view','condition','street','city',\n",
    "               'statezip','country']"
   ]
  },
  {
   "cell_type": "code",
   "execution_count": 5,
   "metadata": {},
   "outputs": [],
   "source": [
    "continuous = [i for i in data.columns if i not in categorical + ['date','price']]"
   ]
  },
  {
   "cell_type": "code",
   "execution_count": 6,
   "metadata": {},
   "outputs": [
    {
     "name": "stdout",
     "output_type": "stream",
     "text": [
      "['sqft_living', 'sqft_lot', 'sqft_above', 'sqft_basement', 'yr_built', 'yr_renovated']\n"
     ]
    }
   ],
   "source": [
    "print(continuous)"
   ]
  },
  {
   "cell_type": "code",
   "execution_count": 7,
   "metadata": {},
   "outputs": [],
   "source": [
    "data = data.drop(index = data[data.price == 0].index)"
   ]
  },
  {
   "cell_type": "markdown",
   "metadata": {},
   "source": [
    "### 2. Visualize the univariate distribution of each continuous feature, and the distribution of thetarget. Do you notice anything? Is there something that might require special treatment?"
   ]
  },
  {
   "cell_type": "code",
   "execution_count": 8,
   "metadata": {},
   "outputs": [
    {
     "data": {
      "image/png": "[encoded data removed]",
      "text/plain": [
       "<Figure size 1080x720 with 6 Axes>"
      ]
     },
     "metadata": {
      "needs_background": "light"
     },
     "output_type": "display_data"
    },
    {
     "data": {
      "image/png": "[encoded data removed]",
      "text/plain": [
       "<Figure size 1080x360 with 1 Axes>"
      ]
     },
     "metadata": {
      "needs_background": "light"
     },
     "output_type": "display_data"
    }
   ],
   "source": [
    "f, ax = plt.subplots(nrows=2,ncols=3,figsize=(15,10))\n",
    "\n",
    "plt.suptitle('Continuous features distribution', fontsize=25)\n",
    "\n",
    "ax[0,0].hist(data['sqft_living'],bins='auto')\n",
    "ax[0,0].set_title('SQFT living')\n",
    "\n",
    "ax[0,1].hist(data['sqft_lot'],bins='auto')\n",
    "ax[0,1].set_title('SQFT Lot')\n",
    "\n",
    "ax[0,2].hist(data['sqft_above'],bins='auto')\n",
    "ax[0,2].set_title('SQFT Above')\n",
    "\n",
    "ax[1,0].hist(data['sqft_lot'],bins='auto')\n",
    "ax[1,0].set_title('SQFT Lot')\n",
    "\n",
    "ax[1,1].hist(data['yr_built'],bins='auto')\n",
    "ax[1,1].set_title('Year built')\n",
    "\n",
    "ax[1,2].hist(data['yr_renovated'],bins='auto')\n",
    "ax[1,2].set_title('Year renovated')\n",
    "\n",
    "plt.show()\n",
    "\n",
    "plt.figure(figsize=(15,5))\n",
    "plt.hist(data.price,bins='auto')\n",
    "plt.title('Price distribution')\n",
    "plt.show()"
   ]
  },
  {
   "cell_type": "markdown",
   "metadata": {},
   "source": [
    "### 3. Visualize the dependency of the target on each continuous feature (2d scatter plot)."
   ]
  },
  {
   "cell_type": "code",
   "execution_count": 9,
   "metadata": {},
   "outputs": [
    {
     "data": {
      "image/png": "[encoded data removed]",
      "text/plain": [
       "<Figure size 1080x720 with 6 Axes>"
      ]
     },
     "metadata": {
      "needs_background": "light"
     },
     "output_type": "display_data"
    }
   ],
   "source": [
    "f, ax = plt.subplots(nrows=2,ncols=3,figsize=(15,10))\n",
    "\n",
    "plt.suptitle('Dependency with target', fontsize=25)\n",
    "\n",
    "ax[0,0].scatter(data['sqft_living'],data['price'],s=5,alpha=0.5)\n",
    "ax[0,0].set_title('SQFT living')\n",
    "ax[0,0].set_ylabel('Price')\n",
    "\n",
    "ax[0,1].scatter(data['sqft_lot'],data['price'],s=5,alpha=0.5)\n",
    "ax[0,1].set_title('SQFT Lot')\n",
    "ax[0,1].set_ylabel('Price')\n",
    "\n",
    "ax[0,2].scatter(data['sqft_above'],data['price'],s=5,alpha=0.5)\n",
    "ax[0,2].set_title('SQFT Above')\n",
    "ax[0,2].set_ylabel('Price')\n",
    "\n",
    "ax[1,0].scatter(data['sqft_lot'],data['price'],s=5,alpha=0.5)\n",
    "ax[1,0].set_title('SQFT Lot')\n",
    "ax[1,0].set_ylabel('Price')\n",
    "\n",
    "ax[1,1].scatter(data['yr_built'],data['price'],s=5,alpha=0.5)\n",
    "ax[1,1].set_title('Year built')\n",
    "ax[1,1].set_ylabel('Price')\n",
    "\n",
    "ax[1,2].scatter(data['yr_renovated'],data['price'],s=5,alpha=0.5)\n",
    "ax[1,2].set_title('Year renovated')\n",
    "ax[1,2].set_ylabel('Price')\n",
    "\n",
    "plt.show()"
   ]
  },
  {
   "cell_type": "markdown",
   "metadata": {},
   "source": [
    "### 4. Split data in training and test set. Do not use the test-set unless for a final evaluation in 2.5.Use ColumnTransformer and pipeline to encode categorical variables (your choice ofOneHotEncoder or another one from the categorical_encoder package, or both). Impute missingvalues using SimpleImputer. Evaluate Linear Regression (OLS), Ridge, Lasso and ElasticNetusing cross-validation with the default parameters. Does scaling the data (within the pipeline)with StandardScaler help? Use the preprocessing that works best going forward."
   ]
  },
  {
   "cell_type": "code",
   "execution_count": 10,
   "metadata": {},
   "outputs": [],
   "source": [
    "X_train,X_test,y_train,y_test = train_test_split(data.drop(['price','date'],axis=1),\n",
    "                                                 data['price'],\n",
    "                                                 test_size=0.2)\n",
    "\n",
    "target_encoding = []\n",
    "onehot = []\n",
    "\n",
    "for cat in categorical:\n",
    "    if len(X_train[cat].unique()) >= 10:\n",
    "        target_encoding.append(cat)\n",
    "    else:\n",
    "        onehot.append(cat)"
   ]
  },
  {
   "cell_type": "code",
   "execution_count": 11,
   "metadata": {},
   "outputs": [
    {
     "data": {
      "text/plain": [
       "['bedrooms', 'bathrooms', 'street', 'city', 'statezip']"
      ]
     },
     "execution_count": 11,
     "metadata": {},
     "output_type": "execute_result"
    }
   ],
   "source": [
    "target_encoding"
   ]
  },
  {
   "cell_type": "code",
   "execution_count": 12,
   "metadata": {},
   "outputs": [
    {
     "data": {
      "text/plain": [
       "['floors', 'waterfront', 'view', 'condition', 'country']"
      ]
     },
     "execution_count": 12,
     "metadata": {},
     "output_type": "execute_result"
    }
   ],
   "source": [
    "onehot"
   ]
  },
  {
   "cell_type": "code",
   "execution_count": 13,
   "metadata": {},
   "outputs": [
    {
     "name": "stdout",
     "output_type": "stream",
     "text": [
      "Scores with SCALER\n",
      "CV score - OLS: 0.4727119058997135\n",
      "CV score - Ridge: 0.472823156441454\n",
      "CV score - Lasso: 0.47271407850170866\n",
      "CV score - ElasticNet: 0.4193109322267145\n"
     ]
    }
   ],
   "source": [
    "numeric_transformer = Pipeline(steps=[('scaler', RobustScaler())])\n",
    "\n",
    "categorical_transformer = Pipeline(steps=[('target_encoding',ce.TargetEncoder(cols=target_encoding,return_df=True)),\n",
    "                                          ('onehot_encoding',ce.one_hot.OneHotEncoder(cols=onehot,return_df=True))])\n",
    "\n",
    "preprocessor = ColumnTransformer(transformers=[('cat', categorical_transformer, categorical),\n",
    "                                               ('num', numeric_transformer, continuous)])\n",
    "\n",
    "pipe_ols = Pipeline([('Preprocess',preprocessor),\n",
    "                     ('Regressor',LinearRegression())])\n",
    "\n",
    "pipe_ridge = Pipeline([('Preprocess',preprocessor),\n",
    "                       ('Regressor',Ridge(max_iter=100000))])\n",
    "\n",
    "pipe_lasso = Pipeline([('Preprocess',preprocessor),\n",
    "                     ('Regressor',Lasso(max_iter=100000))])\n",
    "\n",
    "pipe_en = Pipeline([('Preprocess',preprocessor),\n",
    "                    ('Regressor',ElasticNet(max_iter=100000))])\n",
    "\n",
    "cv_ols = cross_val_score(pipe_ols,X_train,y_train)\n",
    "cv_ridge = cross_val_score(pipe_ridge,X_train,y_train)\n",
    "cv_lasso = cross_val_score(pipe_lasso,X_train,y_train)\n",
    "cv_en = cross_val_score(pipe_en,X_train,y_train)\n",
    "\n",
    "print('Scores with SCALER')\n",
    "print('CV score - OLS:',cv_ols.mean())\n",
    "print('CV score - Ridge:',cv_ridge.mean())\n",
    "print('CV score - Lasso:',cv_lasso.mean())\n",
    "print('CV score - ElasticNet:',cv_en.mean())"
   ]
  },
  {
   "cell_type": "code",
   "execution_count": 14,
   "metadata": {},
   "outputs": [
    {
     "name": "stdout",
     "output_type": "stream",
     "text": [
      "Scores without SCALER\n",
      "CV score - OLS: 0.3946574526950369\n",
      "CV score - Ridge: 0.39467477185052663\n",
      "CV score - Lasso: 0.39465802701813324\n",
      "CV score - ElasticNet: 0.35722751768374505\n"
     ]
    }
   ],
   "source": [
    "categorical_transformer = Pipeline(steps=[('target_encoding',ce.TargetEncoder(cols=target_encoding,return_df=True)),\n",
    "                                          ('onehot_encoding',ce.one_hot.OneHotEncoder(cols=onehot,return_df=True))])\n",
    "\n",
    "preprocessor = ColumnTransformer(transformers=[('cat', categorical_transformer, categorical)])\n",
    "\n",
    "pipe_ols = Pipeline([('Preprocess',preprocessor),\n",
    "                     ('Regressor',LinearRegression())])\n",
    "\n",
    "pipe_ridge = Pipeline([('Preprocess',preprocessor),\n",
    "                       ('Regressor',Ridge(max_iter=10000))])\n",
    "\n",
    "pipe_lasso = Pipeline([('Preprocess',preprocessor),\n",
    "                     ('Regressor',Lasso(max_iter=10000))])\n",
    "\n",
    "pipe_en = Pipeline([('Preprocess',preprocessor),\n",
    "                    ('Regressor',ElasticNet(max_iter=10000))])\n",
    "\n",
    "cv_ols = cross_val_score(pipe_ols,X_train,y_train)\n",
    "cv_ridge = cross_val_score(pipe_ridge,X_train,y_train)\n",
    "cv_lasso = cross_val_score(pipe_lasso,X_train,y_train)\n",
    "cv_en = cross_val_score(pipe_en,X_train,y_train)\n",
    "\n",
    "print('Scores without SCALER')\n",
    "print('CV score - OLS:',cv_ols.mean())\n",
    "print('CV score - Ridge:',cv_ridge.mean())\n",
    "print('CV score - Lasso:',cv_lasso.mean())\n",
    "print('CV score - ElasticNet:',cv_en.mean())"
   ]
  },
  {
   "cell_type": "markdown",
   "metadata": {},
   "source": [
    "### 5. Tune the parameters of the models using GridSearchCV. Do the results improve? Visualizethe dependence of the validation score on the parameters for Ridge, Lasso and ElasticNet."
   ]
  },
  {
   "cell_type": "code",
   "execution_count": 19,
   "metadata": {},
   "outputs": [
    {
     "name": "stderr",
     "output_type": "stream",
     "text": [
      "/home/leo/anaconda3/lib/python3.7/site-packages/sklearn/linear_model/_coordinate_descent.py:476: ConvergenceWarning: Objective did not converge. You might want to increase the number of iterations. Duality gap: 94679361891051.38, tolerance: 117245008572.57591\n",
      "  positive)\n",
      "/home/leo/anaconda3/lib/python3.7/site-packages/sklearn/linear_model/_coordinate_descent.py:476: ConvergenceWarning: Objective did not converge. You might want to increase the number of iterations. Duality gap: 76615334083977.56, tolerance: 104732471824.89484\n",
      "  positive)\n",
      "/home/leo/anaconda3/lib/python3.7/site-packages/sklearn/linear_model/_coordinate_descent.py:476: ConvergenceWarning: Objective did not converge. You might want to increase the number of iterations. Duality gap: 96282360507889.12, tolerance: 119610729712.60493\n",
      "  positive)\n",
      "/home/leo/anaconda3/lib/python3.7/site-packages/sklearn/linear_model/_coordinate_descent.py:476: ConvergenceWarning: Objective did not converge. You might want to increase the number of iterations. Duality gap: 97764357590815.5, tolerance: 117219118587.4978\n",
      "  positive)\n"
     ]
    },
    {
     "name": "stdout",
     "output_type": "stream",
     "text": [
      "OLS score: 0.47271190590001816 \n",
      "Params: {'Regressor__fit_intercept': False}\n",
      "Ridge score: 0.4729366719792957 \n",
      "Params: {'Regressor__alpha': 5}\n",
      "Lasso score: 0.4727476100454163 \n",
      "Params: {'Regressor__alpha': 20}\n",
      "ElasticNet score: 0.4641711766939995 \n",
      "Params: {'Regressor__alpha': 0.5, 'Regressor__l1_ratio': 0.9}\n"
     ]
    }
   ],
   "source": [
    "numeric_transformer = Pipeline(steps=[('scaler', RobustScaler())])\n",
    "\n",
    "categorical_transformer = Pipeline(steps=[('target_encoding',ce.TargetEncoder(cols=target_encoding,return_df=True)),\n",
    "                                          ('onehot_encoding',ce.one_hot.OneHotEncoder(cols=onehot,return_df=True))])\n",
    "\n",
    "preprocessor = ColumnTransformer(transformers=[('cat', categorical_transformer, categorical),\n",
    "                                               ('num', numeric_transformer, continuous)])\n",
    "\n",
    "pipe_ols = Pipeline([('Preprocess',preprocessor),\n",
    "                     ('Regressor',LinearRegression())])\n",
    "\n",
    "pipe_ridge = Pipeline([('Preprocess',preprocessor),\n",
    "                       ('Regressor',Ridge(max_iter=100000))])\n",
    "\n",
    "pipe_lasso = Pipeline([('Preprocess',preprocessor),\n",
    "                     ('Regressor',Lasso(max_iter=100000))])\n",
    "\n",
    "pipe_en = Pipeline([('Preprocess',preprocessor),\n",
    "                    ('Regressor',ElasticNet(max_iter=100000))])\n",
    "\n",
    "params_ols = {'Regressor__fit_intercept':[True,False]}\n",
    "params_ridge = {'Regressor__alpha':[0.5,1,1.5,2,3,5,7,10,20]}\n",
    "params_lasso = {'Regressor__alpha':[0.5,1,1.5,2,3,5,7,10,20]}\n",
    "params_en = {'Regressor__l1_ratio':[0.1,0.25,0.5,0.75,0.9],\n",
    "             'Regressor__alpha':[0.5,1,1.5,2,3,5,7,10,20]}\n",
    "\n",
    "\n",
    "search_ols = GridSearchCV(pipe_ols,params_ols)\n",
    "search_ridge = GridSearchCV(pipe_ridge,params_ridge)\n",
    "search_lasso = GridSearchCV(pipe_lasso,params_lasso)\n",
    "search_en = GridSearchCV(pipe_en,params_en)\n",
    "\n",
    "search_ols.fit(X_train,y_train)\n",
    "search_ridge.fit(X_train,y_train)\n",
    "search_lasso.fit(X_train,y_train)\n",
    "search_en.fit(X_train,y_train)\n",
    "\n",
    "print('OLS score:',search_ols.best_score_,'\\nParams:',search_ols.best_params_)\n",
    "print('Ridge score:',search_ridge.best_score_,'\\nParams:',search_ridge.best_params_)\n",
    "print('Lasso score:',search_lasso.best_score_,'\\nParams:',search_lasso.best_params_)\n",
    "print('ElasticNet score:',search_en.best_score_,'\\nParams:',search_en.best_params_)"
   ]
  },
  {
   "cell_type": "markdown",
   "metadata": {},
   "source": [
    "### 6. Visualize the 20 most important coefficients of the resulting models. Do they agree on whichfeatures are important?"
   ]
  },
  {
   "cell_type": "code",
   "execution_count": null,
   "metadata": {},
   "outputs": [],
   "source": []
  }
 ],
 "metadata": {
  "kernelspec": {
   "display_name": "Python 3",
   "language": "python",
   "name": "python3"
  },
  "language_info": {
   "codemirror_mode": {
    "name": "ipython",
    "version": 3
   },
   "file_extension": ".py",
   "mimetype": "text/x-python",
   "name": "python",
   "nbconvert_exporter": "python",
   "pygments_lexer": "ipython3",
   "version": "3.7.6"
  }
 },
 "nbformat": 4,
 "nbformat_minor": 4
}
